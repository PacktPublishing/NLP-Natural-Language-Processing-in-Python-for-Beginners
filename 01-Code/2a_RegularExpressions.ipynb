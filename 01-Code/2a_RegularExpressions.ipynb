{
 "cells": [
  {
   "cell_type": "code",
   "execution_count": 1,
   "metadata": {},
   "outputs": [],
   "source": [
    "import re"
   ]
  },
  {
   "cell_type": "code",
   "execution_count": 2,
   "metadata": {},
   "outputs": [
    {
     "data": {
      "text/plain": [
       "['abc', 'abc']"
      ]
     },
     "execution_count": 2,
     "metadata": {},
     "output_type": "execute_result"
    }
   ],
   "source": [
    "re.findall('abc','askdfj;akdfj;lajdf;laj;lakdsfabcasdfaabcdadf')"
   ]
  },
  {
   "cell_type": "code",
   "execution_count": 3,
   "metadata": {},
   "outputs": [
    {
     "name": "stdout",
     "output_type": "stream",
     "text": [
      "7\n",
      "['3', '5', '3', '4', '2', '3', '4']\n"
     ]
    }
   ],
   "source": [
    "s = 'asdfjl;ajdf;la3534l2k3o;lkdagj;qi4touoq'\n",
    "L = re.findall('[0-9]',s)\n",
    "print(len(L))\n",
    "print(L)"
   ]
  },
  {
   "cell_type": "code",
   "execution_count": 4,
   "metadata": {},
   "outputs": [
    {
     "name": "stdout",
     "output_type": "stream",
     "text": [
      "7\n",
      "['3', '5', '3', '4', '2', '3', '4']\n"
     ]
    }
   ],
   "source": [
    "s = 'asdfjl;ajdf;la3534l2k3o;lkdagj;qi4touoq'\n",
    "L = re.findall('[9610342587]',s)\n",
    "print(len(L))\n",
    "print(L)"
   ]
  },
  {
   "cell_type": "code",
   "execution_count": 5,
   "metadata": {},
   "outputs": [
    {
     "name": "stdout",
     "output_type": "stream",
     "text": [
      "Not Found\n"
     ]
    }
   ],
   "source": [
    "s = 'asdfjl;ajdf;la353k4l2k3o;lkdagj;qi498u598touoq'\n",
    "L = re.findall('[0-9][0-9][0-9][0-9]',s)\n",
    "#print(L)\n",
    "if len(L)>0:\n",
    "    print(\"Found\")\n",
    "else:\n",
    "    print(\"Not Found\")"
   ]
  },
  {
   "cell_type": "code",
   "execution_count": 6,
   "metadata": {},
   "outputs": [
    {
     "name": "stdout",
     "output_type": "stream",
     "text": [
      "asdkfjqoitlskdnfoqwiekhas;ioew=adgoie\n",
      "askdfl_asdkfei_asdjkfla****askeasfff\n"
     ]
    }
   ],
   "source": [
    "documents = ['asdfj;laieorkdjf;aliejr;akjdf23k4j;lajds;l',\n",
    "            'asdfjoqweitulad;ai@weutadg;lajoetiuaodkgjier',\n",
    "            'asdkfjqoitlskdnfoqwiekhas;ioew=adgoie',\n",
    "            'askdfl_asdkfei_asdjkfla****askeasfff',\n",
    "            '{{{{{asdfjowei@@##askdfoie}}}}}']\n",
    "regExp = '[0-9:\"{}()@#&]'\n",
    "for doc in documents:\n",
    "    if len(re.findall(regExp,doc))>0:\n",
    "        pass\n",
    "    else:\n",
    "        print(doc)"
   ]
  },
  {
   "cell_type": "code",
   "execution_count": 7,
   "metadata": {},
   "outputs": [
    {
     "name": "stdout",
     "output_type": "stream",
     "text": [
      "asdkfjqoitlskdnfoqwiekhas;ioew=adgoie\n",
      "askdfl_asdkfei_asdjkfla****askeasfff\n"
     ]
    }
   ],
   "source": [
    "documents = ['asdfj;laieorkdjf;aliejr;akjdf23k4j;lajds;l',\n",
    "            'asdfjoqweitulad;ai@weutadg;lajoetiuaodkgjier',\n",
    "            'asdkfjqoitlskdnfoqwiekhas;ioew=adgoie',\n",
    "            'askdfl_asdkfei_asdjkfla****askeasfff',\n",
    "            '{{{{{asdfjowei@@##askdfoie}}}}}']\n",
    "regExp = '[^0-9:\"{}()@#&]'\n",
    "for doc in documents:\n",
    "    if len(re.findall(regExp,doc))==len(doc):\n",
    "        print(doc)"
   ]
  },
  {
   "cell_type": "code",
   "execution_count": 8,
   "metadata": {},
   "outputs": [
    {
     "name": "stdout",
     "output_type": "stream",
     "text": [
      "''\n"
     ]
    }
   ],
   "source": [
    "print(\"'\\'\")"
   ]
  },
  {
   "cell_type": "code",
   "execution_count": 9,
   "metadata": {},
   "outputs": [
    {
     "name": "stdout",
     "output_type": "stream",
     "text": [
      "'\\'\n"
     ]
    }
   ],
   "source": [
    "print(\"'\\\\'\")"
   ]
  },
  {
   "cell_type": "code",
   "execution_count": 10,
   "metadata": {},
   "outputs": [
    {
     "name": "stdout",
     "output_type": "stream",
     "text": [
      "4\n"
     ]
    }
   ],
   "source": [
    "regExp = '[\\\\\\]'\n",
    "print(len(re.findall(regExp,'\\n for new [line, ] \\section and \\document and \\\\\\section \\n')))"
   ]
  },
  {
   "cell_type": "code",
   "execution_count": 11,
   "metadata": {},
   "outputs": [
    {
     "name": "stdout",
     "output_type": "stream",
     "text": [
      "7\n"
     ]
    }
   ],
   "source": [
    "regExp = '[\\\\\\]'\n",
    "print(len(re.findall(regExp,r'\\n for new [line, ] \\section and \\document and \\\\\\section \\n')))"
   ]
  },
  {
   "cell_type": "code",
   "execution_count": 12,
   "metadata": {},
   "outputs": [
    {
     "name": "stdout",
     "output_type": "stream",
     "text": [
      "9\n"
     ]
    }
   ],
   "source": [
    "regExp = '[\\[\\]\\\\\\]'\n",
    "print(len(re.findall(regExp,r'\\n for new [line, ] \\section and \\document and \\\\\\section \\n')))"
   ]
  },
  {
   "cell_type": "code",
   "execution_count": 13,
   "metadata": {},
   "outputs": [
    {
     "name": "stdout",
     "output_type": "stream",
     "text": [
      "2\n",
      "7\n",
      "9\n"
     ]
    }
   ],
   "source": [
    "doc = r'\\n for new [line, ] \\section and \\document and \\\\\\section \\n'\n",
    "regExp_brackets = '[\\[\\]]'\n",
    "brackets_count = len(re.findall(regExp_brackets,doc))\n",
    "print(brackets_count)\n",
    "regExp_slashes = '[\\\\\\]'\n",
    "slash_count = len(re.findall(regExp_slashes,doc))\n",
    "print(slash_count)\n",
    "print(brackets_count+slash_count)"
   ]
  },
  {
   "cell_type": "code",
   "execution_count": 14,
   "metadata": {},
   "outputs": [
    {
     "name": "stdout",
     "output_type": "stream",
     "text": [
      "2\n"
     ]
    }
   ],
   "source": [
    "doc = r'\\n for new [line, ] \\section and \\document and \\\\\\section \\n'\n",
    "regExp = '[\\\\\\]section'\n",
    "print(len(re.findall(regExp,doc)))"
   ]
  },
  {
   "cell_type": "code",
   "execution_count": 15,
   "metadata": {},
   "outputs": [
    {
     "name": "stdout",
     "output_type": "stream",
     "text": [
      "['2', '4', '2', '3', '4', ' ', ' ', ' ', ' ', ' ', ' ', '_', '_']\n",
      "13\n"
     ]
    }
   ],
   "source": [
    "doc = ('asdfj;laieo2rkdjf;ali4ejr;akjdf23k4j;lajds;l'\n",
    "            'asdfjoqweitu  lad;ai@weuta    dg;lajoetiuaodkgjier'\n",
    "            'asdkfjqoitlskdnfoqwiekhas;ioew=adgoie'\n",
    "            'askdfl_asdkfei_asdjkfla****askeasfff'\n",
    "            '{{{{{asdfjowei@@##askdfoie}}}}}')\n",
    "regExp = '[\\s\\d_]'\n",
    "rs = re.findall(regExp,doc)\n",
    "print(rs)\n",
    "print(len(rs))"
   ]
  },
  {
   "cell_type": "code",
   "execution_count": 16,
   "metadata": {},
   "outputs": [
    {
     "name": "stdout",
     "output_type": "stream",
     "text": [
      "['Yahoo', 'Yahooo', 'Yahooooooo', 'Yahooooo']\n"
     ]
    }
   ],
   "source": [
    "doc = 'YahooYahoooYahoooooooYahoooooYahoasdfl;akj;lYahoaYahaoo'\n",
    "regExp = 'Yahooo*'\n",
    "rs = re.findall(regExp,doc)\n",
    "print(rs)"
   ]
  },
  {
   "cell_type": "code",
   "execution_count": 17,
   "metadata": {},
   "outputs": [
    {
     "name": "stdout",
     "output_type": "stream",
     "text": [
      "['asdfj', 'laieo2rkdjf', 'ali4ejr', 'akjdf23k4j', 'lajds', 'lasdfjoqweitu', 'lad', 'ai', 'weuta', 'dg', 'lajoetiuaodkgjierasdkfjqoitlskdnfoqwiekhas', 'ioew', 'adgoieaskdfl_asdkfei_asdjkfla', 'askeasfff', 'asdfjowei', 'askdfoie']\n"
     ]
    }
   ],
   "source": [
    "doc = ('asdfj;35laieo2rkdjf;ali4ejr;akjdf23k4j;lajds;l'\n",
    "            'asdfjoqweitu  lad;ai@weuta    dg;lajoetiuaodkgjier'\n",
    "            'asdkfjqoitlskdnfoqwiekhas;ioew=adgoie'\n",
    "            'askdfl_asdkfei_asdjkfla****askeasfff'\n",
    "            '{{{{{asdfjowei@@##askdfoie}}}}}')\n",
    "regExp = '[a-zA-Z_]\\w*'\n",
    "rs = re.findall(regExp,doc)\n",
    "print(rs)"
   ]
  },
  {
   "cell_type": "code",
   "execution_count": 18,
   "metadata": {},
   "outputs": [
    {
     "name": "stdout",
     "output_type": "stream",
     "text": [
      "['Yahoo', 'Yahooo', 'Yahooooooo', 'Yahooooo']\n"
     ]
    }
   ],
   "source": [
    "doc = 'YahooYahoooYahoooooooYahoooooYahoasdfl;akj;lYahoaYahaoo'\n",
    "regExp = 'Yahoo+'\n",
    "rs = re.findall(regExp,doc)\n",
    "print(rs)"
   ]
  },
  {
   "cell_type": "code",
   "execution_count": 19,
   "metadata": {},
   "outputs": [
    {
     "name": "stdout",
     "output_type": "stream",
     "text": [
      "['Yahoo', 'Yahooo', 'Yaooooooo', 'Yahooooo', 'Yaoooo']\n"
     ]
    }
   ],
   "source": [
    "doc = 'YahooYahoooYaoooooooYahoooooYahoasdfl;akj;lYaooooaYahaoo'\n",
    "regExp = 'Yah?oo+'\n",
    "rs = re.findall(regExp,doc)\n",
    "print(rs)"
   ]
  },
  {
   "cell_type": "code",
   "execution_count": 20,
   "metadata": {},
   "outputs": [
    {
     "name": "stdout",
     "output_type": "stream",
     "text": [
      "['35', '23', '56789']\n"
     ]
    }
   ],
   "source": [
    "doc = ('asdfj;35laieo2rkdjf;ali4ejr;akjdf23k4j;lajds;l'\n",
    "            'asdfjoqweitu  lad;ai@weuta    dg;lajoetiuaodkgjier'\n",
    "            'asdkfjqoitlskdnfoqwiekhas;ioew=adgoie'\n",
    "            'askdfl_asdkfei_asd567890jkfla****askeasfff'\n",
    "            '{{{{{asdfjowei@@##askdfoie}}}}}')\n",
    "regExp = '\\d{2,5}'\n",
    "rs = re.findall(regExp,doc)\n",
    "print(rs)"
   ]
  },
  {
   "cell_type": "code",
   "execution_count": 21,
   "metadata": {},
   "outputs": [],
   "source": [
    "p = re.compile('a\\d*b',re.IGNORECASE)"
   ]
  },
  {
   "cell_type": "code",
   "execution_count": 22,
   "metadata": {},
   "outputs": [
    {
     "data": {
      "text/plain": [
       "['a234122B', 'Ab']"
      ]
     },
     "execution_count": 22,
     "metadata": {},
     "output_type": "execute_result"
    }
   ],
   "source": [
    "p.findall('a234122B23456Ab')"
   ]
  },
  {
   "cell_type": "code",
   "execution_count": 31,
   "metadata": {},
   "outputs": [
    {
     "name": "stdout",
     "output_type": "stream",
     "text": [
      "(0, 17) 0 17 17\n",
      "how are you today ... asdfjla;joeito;angl;a4o3\n"
     ]
    }
   ],
   "source": [
    "doc = '      \\t    \\t   \\t how are you today ... asdfjla;joeito;angl;a4o3'\n",
    "p = re.compile('\\s*')\n",
    "m = p.match(doc)\n",
    "print(m.span(),m.start(),m.end(),len(m.group()))\n",
    "print(doc[m.end():])"
   ]
  },
  {
   "cell_type": "code",
   "execution_count": 29,
   "metadata": {},
   "outputs": [
    {
     "data": {
      "text/plain": [
       "((0, 17), 0, 17)"
      ]
     },
     "execution_count": 29,
     "metadata": {},
     "output_type": "execute_result"
    }
   ],
   "source": [
    "m.span() , m.start() , m.end()"
   ]
  },
  {
   "cell_type": "code",
   "execution_count": 33,
   "metadata": {},
   "outputs": [
    {
     "name": "stdout",
     "output_type": "stream",
     "text": [
      "(2, 19) 2 19 17\n",
      "how are   \t  you today ... asdfjla;joeito;angl;a4o3\n"
     ]
    }
   ],
   "source": [
    "doc = 'ad      \\t    \\t   \\t how are   \\t  you today ... asdfjla;joeito;angl;a4o3'\n",
    "p = re.compile('\\s+')\n",
    "m = p.search(doc)\n",
    "print(m.span(),m.start(),m.end(),len(m.group()))\n",
    "print(doc[m.end():])"
   ]
  },
  {
   "cell_type": "code",
   "execution_count": 36,
   "metadata": {},
   "outputs": [
    {
     "name": "stdout",
     "output_type": "stream",
     "text": [
      "(0, 5) aSdfj\n",
      "(8, 19) lAieo2rkdjf\n",
      "(20, 27) ali4ejr\n",
      "(28, 38) akjdf23k4j\n",
      "(39, 44) lajds\n",
      "(45, 58) lasdfjoqweitu\n",
      "(60, 63) lad\n",
      "(64, 66) ai\n",
      "(67, 72) weuta\n",
      "(76, 78) dg\n",
      "(79, 121) lajoetiuaodkgjierasdkfjqoitlskdnfoqwiekhas\n",
      "(122, 126) ioew\n",
      "(127, 156) adgoieaskdfl_asdkfei_asdjkfla\n",
      "(160, 169) askeasfff\n",
      "(174, 183) asdfjowei\n",
      "(187, 195) askdfoie\n"
     ]
    }
   ],
   "source": [
    "doc = ('aSdfj;35lAieo2rkdjf;ali4ejr;akjdf23k4j;lajds;l'\n",
    "            'asdfjoqweitu  lad;ai@weuta    dg;lajoetiuaodkgjier'\n",
    "            'asdkfjqoitlskdnfoqwiekhas;ioew=adgoie'\n",
    "            'askdfl_asdkfei_asdjkfla****askeasfff'\n",
    "            '{{{{{asdfjowei@@##askdfoie}}}}}')\n",
    "#regExp = '[a-zA-Z_]\\w*'\n",
    "#p = re.compile(regExp)\n",
    "regExp = '[a-z_]\\w*'\n",
    "p = re.compile(regExp,re.IGNORECASE)\n",
    "iterator = p.finditer(doc)\n",
    "for m in iterator:\n",
    "    print(m.span(),m.group())"
   ]
  },
  {
   "cell_type": "code",
   "execution_count": 38,
   "metadata": {},
   "outputs": [
    {
     "name": "stdout",
     "output_type": "stream",
     "text": [
      "9\n"
     ]
    }
   ],
   "source": [
    "doc = r'\\n for new [line, ] \\section and \\document and \\\\\\section \\n'\n",
    "regExp_brackets = '[\\[\\]]'\n",
    "#brackets_count = len(re.findall(regExp_brackets,doc))\n",
    "#print(brackets_count)\n",
    "regExp_slashes = '[\\\\\\]'\n",
    "#slash_count = len(re.findall(regExp_slashes,doc))\n",
    "print(len(re.findall(regExp_brackets+'|'+regExp_slashes,doc)))\n"
   ]
  },
  {
   "cell_type": "code",
   "execution_count": 40,
   "metadata": {},
   "outputs": [
    {
     "name": "stdout",
     "output_type": "stream",
     "text": [
      "(8, 23) thethethethethe\n",
      "(27, 33) thethe\n",
      "(34, 43) thethethe\n"
     ]
    }
   ],
   "source": [
    "doc = 'find in thethethethetheasdfthethe thethethefas'\n",
    "p = re.compile('(the)+')\n",
    "iterator = p.finditer(doc)\n",
    "for m in iterator:\n",
    "    print(m.span(),m.group())"
   ]
  },
  {
   "cell_type": "code",
   "execution_count": 41,
   "metadata": {},
   "outputs": [
    {
     "data": {
      "text/plain": [
       "['This', 'test', 'is', 'short', 'and', 'sweet', '45u4__', 'buft']"
      ]
     },
     "execution_count": 41,
     "metadata": {},
     "output_type": "execute_result"
    }
   ],
   "source": [
    "p = re.compile('\\W+')\n",
    "p.split('This test, --++**\\\\ is short and sweet ,,... 45u4__&&##buft')"
   ]
  },
  {
   "cell_type": "code",
   "execution_count": 42,
   "metadata": {},
   "outputs": [
    {
     "data": {
      "text/plain": [
       "'color shoes and color socks'"
      ]
     },
     "execution_count": 42,
     "metadata": {},
     "output_type": "execute_result"
    }
   ],
   "source": [
    "p = re.compile('(blue\\s|white\\s|red\\s)+',re.IGNORECASE)\n",
    "p.sub('color ','blue REd shoes and White BLue red white red socks')"
   ]
  },
  {
   "cell_type": "code",
   "execution_count": 43,
   "metadata": {},
   "outputs": [
    {
     "data": {
      "text/plain": [
       "'abd asd kluoeiur liueou lkuioe lieoj sd'"
      ]
     },
     "execution_count": 43,
     "metadata": {},
     "output_type": "execute_result"
    }
   ],
   "source": [
    "doc = '   abd     asd kluoeiur   liueou lkuioe    lieoj \\t sd     '\n",
    "p1 = re.compile('\\s+')\n",
    "p2 = re.compile('^ | $')\n",
    "p2.sub('',p1.sub(' ',doc))"
   ]
  },
  {
   "cell_type": "code",
   "execution_count": null,
   "metadata": {},
   "outputs": [],
   "source": []
  }
 ],
 "metadata": {
  "kernelspec": {
   "display_name": "Python 3",
   "language": "python",
   "name": "python3"
  },
  "language_info": {
   "codemirror_mode": {
    "name": "ipython",
    "version": 3
   },
   "file_extension": ".py",
   "mimetype": "text/x-python",
   "name": "python",
   "nbconvert_exporter": "python",
   "pygments_lexer": "ipython3",
   "version": "3.8.5"
  }
 },
 "nbformat": 4,
 "nbformat_minor": 4
}
