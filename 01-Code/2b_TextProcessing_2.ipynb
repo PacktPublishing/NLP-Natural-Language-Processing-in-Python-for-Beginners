{
 "cells": [
  {
   "cell_type": "code",
   "execution_count": 1,
   "metadata": {},
   "outputs": [],
   "source": [
    "import numpy as np\n",
    "import re\n",
    "from operator import itemgetter"
   ]
  },
  {
   "cell_type": "code",
   "execution_count": 2,
   "metadata": {},
   "outputs": [],
   "source": [
    "Corpus = {\n",
    "    'l o w _':5,\n",
    "    'l o w e r _':2,\n",
    "    'n e w e s t _':6,\n",
    "    'w i d e s t _':3,\n",
    "    'h a p p i e r _':2\n",
    "}"
   ]
  },
  {
   "cell_type": "code",
   "execution_count": 3,
   "metadata": {},
   "outputs": [
    {
     "data": {
      "text/plain": [
       "{'l o w _': 5,\n",
       " 'l o w e r _': 2,\n",
       " 'n e w e s t _': 6,\n",
       " 'w i d e s t _': 3,\n",
       " 'h a p p i e r _': 2}"
      ]
     },
     "execution_count": 3,
     "metadata": {},
     "output_type": "execute_result"
    }
   ],
   "source": [
    "Corpus"
   ]
  },
  {
   "cell_type": "code",
   "execution_count": 4,
   "metadata": {},
   "outputs": [],
   "source": [
    "def getPairCounts(Corpus):\n",
    "    pairs = {}\n",
    "    for word,fr in Corpus.items():\n",
    "        symbols = word.split(' ')\n",
    "        for i in range(len(symbols)-1):\n",
    "            pair = (symbols[i],symbols[i+1])\n",
    "            cfr = pairs.get(pair,0)\n",
    "            pairs[pair] = cfr+fr\n",
    "    return pairs"
   ]
  },
  {
   "cell_type": "code",
   "execution_count": 5,
   "metadata": {},
   "outputs": [],
   "source": [
    "pairsCounts = getPairCounts(Corpus)"
   ]
  },
  {
   "cell_type": "code",
   "execution_count": 7,
   "metadata": {},
   "outputs": [
    {
     "data": {
      "text/plain": [
       "{('l', 'o'): 7,\n",
       " ('o', 'w'): 7,\n",
       " ('w', '_'): 5,\n",
       " ('w', 'e'): 8,\n",
       " ('e', 'r'): 4,\n",
       " ('r', '_'): 4,\n",
       " ('n', 'e'): 6,\n",
       " ('e', 'w'): 6,\n",
       " ('e', 's'): 9,\n",
       " ('s', 't'): 9,\n",
       " ('t', '_'): 9,\n",
       " ('w', 'i'): 3,\n",
       " ('i', 'd'): 3,\n",
       " ('d', 'e'): 3,\n",
       " ('h', 'a'): 2,\n",
       " ('a', 'p'): 2,\n",
       " ('p', 'p'): 2,\n",
       " ('p', 'i'): 2,\n",
       " ('i', 'e'): 2}"
      ]
     },
     "execution_count": 7,
     "metadata": {},
     "output_type": "execute_result"
    }
   ],
   "source": [
    "pairsCounts"
   ]
  },
  {
   "cell_type": "code",
   "execution_count": 8,
   "metadata": {},
   "outputs": [],
   "source": [
    "def getBestPair(pairsCounts):\n",
    "    return max(pairsCounts,key=pairsCounts.get)"
   ]
  },
  {
   "cell_type": "code",
   "execution_count": 9,
   "metadata": {},
   "outputs": [
    {
     "name": "stdout",
     "output_type": "stream",
     "text": [
      "('e', 's')\n"
     ]
    }
   ],
   "source": [
    "print(getBestPair(pairsCounts))"
   ]
  },
  {
   "cell_type": "code",
   "execution_count": 10,
   "metadata": {},
   "outputs": [],
   "source": [
    "def mergeInCorpus(bestPair,Corpus):\n",
    "    newCorpus = {}\n",
    "    for word in Corpus:\n",
    "        newWord = re.sub(' '.join(bestPair),''.join(bestPair),word)\n",
    "        newCorpus[newWord] = Corpus[word]\n",
    "    return newCorpus"
   ]
  },
  {
   "cell_type": "code",
   "execution_count": 11,
   "metadata": {},
   "outputs": [],
   "source": [
    "bestPair = getBestPair(pairsCounts)\n",
    "newCorpus = mergeInCorpus(bestPair,Corpus)"
   ]
  },
  {
   "cell_type": "code",
   "execution_count": 12,
   "metadata": {},
   "outputs": [
    {
     "data": {
      "text/plain": [
       "{'l o w _': 5,\n",
       " 'l o w e r _': 2,\n",
       " 'n e w es t _': 6,\n",
       " 'w i d es t _': 3,\n",
       " 'h a p p i e r _': 2}"
      ]
     },
     "execution_count": 12,
     "metadata": {},
     "output_type": "execute_result"
    }
   ],
   "source": [
    "newCorpus"
   ]
  },
  {
   "cell_type": "code",
   "execution_count": 13,
   "metadata": {},
   "outputs": [],
   "source": [
    "def runBPE(Corpus,k):\n",
    "    bpeStats = {}\n",
    "    for i in range(k):\n",
    "        pairsCounts = getPairCounts(Corpus)\n",
    "        if not pairsCounts:\n",
    "            break\n",
    "        bestPair = getBestPair(pairsCounts)\n",
    "        bpeStats[bestPair] = i\n",
    "        Corpus = mergeInCorpus(bestPair,Corpus)\n",
    "    return Corpus,bpeStats"
   ]
  },
  {
   "cell_type": "code",
   "execution_count": 14,
   "metadata": {},
   "outputs": [],
   "source": [
    "Corpus = {\n",
    "    'l o w _':5,\n",
    "    'l o w e r _':2,\n",
    "    'n e w e s t _':6,\n",
    "    'w i d e s t _':3,\n",
    "    'h a p p i e r _':2\n",
    "}"
   ]
  },
  {
   "cell_type": "code",
   "execution_count": 15,
   "metadata": {},
   "outputs": [],
   "source": [
    "newCorpus,bpeStats = runBPE(Corpus,10)"
   ]
  },
  {
   "cell_type": "code",
   "execution_count": 16,
   "metadata": {},
   "outputs": [
    {
     "data": {
      "text/plain": [
       "{'low_': 5, 'low er _': 2, 'newest_': 6, 'w i d est_': 3, 'h a p p i er _': 2}"
      ]
     },
     "execution_count": 16,
     "metadata": {},
     "output_type": "execute_result"
    }
   ],
   "source": [
    "newCorpus"
   ]
  },
  {
   "cell_type": "code",
   "execution_count": 17,
   "metadata": {},
   "outputs": [
    {
     "data": {
      "text/plain": [
       "{('e', 's'): 0,\n",
       " ('es', 't'): 1,\n",
       " ('est', '_'): 2,\n",
       " ('l', 'o'): 3,\n",
       " ('lo', 'w'): 4,\n",
       " ('n', 'e'): 5,\n",
       " ('ne', 'w'): 6,\n",
       " ('new', 'est_'): 7,\n",
       " ('low', '_'): 8,\n",
       " ('e', 'r'): 9}"
      ]
     },
     "execution_count": 17,
     "metadata": {},
     "output_type": "execute_result"
    }
   ],
   "source": [
    "bpeStats"
   ]
  },
  {
   "cell_type": "code",
   "execution_count": 20,
   "metadata": {},
   "outputs": [],
   "source": [
    "newWord = 'lowest'\n",
    "newWord2 = ' '.join(list(newWord))+' _'"
   ]
  },
  {
   "cell_type": "code",
   "execution_count": 25,
   "metadata": {},
   "outputs": [],
   "source": [
    "def getAllPairs(word):\n",
    "    pairs = []\n",
    "    word = word.split(' ')\n",
    "    prevChar = word[0]\n",
    "    for char in word[1:]:\n",
    "        pairs.append((prevChar,char))\n",
    "        prevChar = char\n",
    "    return pairs"
   ]
  },
  {
   "cell_type": "code",
   "execution_count": 26,
   "metadata": {},
   "outputs": [],
   "source": [
    "pairs = getAllPairs(newWord2)"
   ]
  },
  {
   "cell_type": "code",
   "execution_count": 27,
   "metadata": {},
   "outputs": [
    {
     "data": {
      "text/plain": [
       "[('l', 'o'), ('o', 'w'), ('w', 'e'), ('e', 's'), ('s', 't'), ('t', '_')]"
      ]
     },
     "execution_count": 27,
     "metadata": {},
     "output_type": "execute_result"
    }
   ],
   "source": [
    "pairs"
   ]
  },
  {
   "cell_type": "code",
   "execution_count": 38,
   "metadata": {},
   "outputs": [],
   "source": [
    "def getPairToBeMerged(bpeStats,pairs):\n",
    "    #bpeCodes = [(pair,bpeStats[pair]) for pair in pairs if pair in bpeStats]\n",
    "    bpeCodes = []\n",
    "    for pair in pairs:\n",
    "        if pair in bpeStats:\n",
    "            bpeCodes.append((pair,bpeStats[pair]))\n",
    "    if len(bpeCodes) == 0:\n",
    "        return (-1,-1)\n",
    "    pairToBeMerged = min(bpeCodes,key=itemgetter(1))[0]\n",
    "    return pairToBeMerged"
   ]
  },
  {
   "cell_type": "code",
   "execution_count": 34,
   "metadata": {},
   "outputs": [],
   "source": [
    "pairToBeMerged = getPairToBeMerged(bpeStats,pairs)"
   ]
  },
  {
   "cell_type": "code",
   "execution_count": 35,
   "metadata": {},
   "outputs": [],
   "source": [
    "def mergeLetters(word,pairToBeMerged):\n",
    "    newWord = re.sub(' '.join(pairToBeMerged),''.join(pairToBeMerged),word)\n",
    "    return newWord"
   ]
  },
  {
   "cell_type": "code",
   "execution_count": 36,
   "metadata": {},
   "outputs": [
    {
     "name": "stdout",
     "output_type": "stream",
     "text": [
      "l o w es t _\n"
     ]
    }
   ],
   "source": [
    "print(mergeLetters(newWord2,pairToBeMerged))"
   ]
  },
  {
   "cell_type": "code",
   "execution_count": 39,
   "metadata": {},
   "outputs": [],
   "source": [
    "def bpeTokenize(word,bpeStats):\n",
    "    if len(word) == 1:\n",
    "        return word\n",
    "    word = ' '.join(list(word))+' _'\n",
    "    while True:\n",
    "        pairs = getAllPairs(word)\n",
    "        pairToBeMerged = getPairToBeMerged(bpeStats,pairs)\n",
    "        if pairToBeMerged[0] == -1:\n",
    "            break\n",
    "        word = mergeLetters(word,pairToBeMerged)\n",
    "    return word\n",
    "    "
   ]
  },
  {
   "cell_type": "code",
   "execution_count": 40,
   "metadata": {},
   "outputs": [],
   "source": [
    "newWord = bpeTokenize('lowest',bpeStats)"
   ]
  },
  {
   "cell_type": "code",
   "execution_count": 41,
   "metadata": {},
   "outputs": [
    {
     "data": {
      "text/plain": [
       "'low est_'"
      ]
     },
     "execution_count": 41,
     "metadata": {},
     "output_type": "execute_result"
    }
   ],
   "source": [
    "newWord"
   ]
  },
  {
   "cell_type": "code",
   "execution_count": null,
   "metadata": {},
   "outputs": [],
   "source": []
  }
 ],
 "metadata": {
  "kernelspec": {
   "display_name": "Python 3",
   "language": "python",
   "name": "python3"
  },
  "language_info": {
   "codemirror_mode": {
    "name": "ipython",
    "version": 3
   },
   "file_extension": ".py",
   "mimetype": "text/x-python",
   "name": "python",
   "nbconvert_exporter": "python",
   "pygments_lexer": "ipython3",
   "version": "3.8.5"
  }
 },
 "nbformat": 4,
 "nbformat_minor": 4
}
