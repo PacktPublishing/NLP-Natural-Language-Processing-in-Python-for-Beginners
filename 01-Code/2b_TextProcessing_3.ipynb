{
 "cells": [
  {
   "cell_type": "code",
   "execution_count": 1,
   "metadata": {},
   "outputs": [],
   "source": [
    "import spacy"
   ]
  },
  {
   "cell_type": "code",
   "execution_count": 2,
   "metadata": {},
   "outputs": [],
   "source": [
    "nlp = spacy.load('en_core_web_sm')"
   ]
  },
  {
   "cell_type": "code",
   "execution_count": 3,
   "metadata": {},
   "outputs": [],
   "source": [
    "proc = nlp('He is reading books with other students while eating meal.')"
   ]
  },
  {
   "cell_type": "code",
   "execution_count": 4,
   "metadata": {},
   "outputs": [
    {
     "name": "stdout",
     "output_type": "stream",
     "text": [
      "He he True\n",
      "is be True\n",
      "reading read False\n",
      "books book False\n",
      "with with True\n",
      "other other True\n",
      "students student False\n",
      "while while True\n",
      "eating eat False\n",
      "meal meal False\n",
      ". . False\n"
     ]
    }
   ],
   "source": [
    "for token in proc:\n",
    "    print(token.text,token.lemma_,token.is_stop)"
   ]
  },
  {
   "cell_type": "code",
   "execution_count": 5,
   "metadata": {},
   "outputs": [
    {
     "name": "stdout",
     "output_type": "stream",
     "text": [
      "This is the first sentence.\n",
      "However, all the other Ph.D. students are working on , say, second sentence.\n"
     ]
    }
   ],
   "source": [
    "txt = 'This is the first sentence. However, all the other Ph.D. students are working on , say, second sentence.'\n",
    "proc = nlp(txt)\n",
    "for s in proc.sents:\n",
    "    print(s.text)"
   ]
  },
  {
   "cell_type": "code",
   "execution_count": 6,
   "metadata": {},
   "outputs": [],
   "source": [
    "import numpy as np"
   ]
  },
  {
   "cell_type": "code",
   "execution_count": 7,
   "metadata": {},
   "outputs": [],
   "source": [
    "def computeMED(X,Y,delCost=1,insCost=1,subCost=2):\n",
    "    M = len(X)+1\n",
    "    N = len(Y)+1\n",
    "    D = np.zeros((M,N))\n",
    "    for i in range(M):\n",
    "        D[i,0] = i*delCost\n",
    "    for j in range(N):\n",
    "        D[0,j] = j*insCost\n",
    "    for i in range(1,M):\n",
    "        for j in range(1,N):\n",
    "            afterDel = D[i-1,j] + delCost\n",
    "            afterIns = D[i,j-1] + insCost\n",
    "            if X[i-1] == Y[j-1]:\n",
    "                afterSub = D[i-1,j-1] + 0\n",
    "            else:\n",
    "                afterSub = D[i-1,j-1] + subCost\n",
    "            D[i,j] = min(afterDel,afterIns,afterSub)\n",
    "    return D[M-1,N-1]"
   ]
  },
  {
   "cell_type": "code",
   "execution_count": 8,
   "metadata": {},
   "outputs": [
    {
     "name": "stdout",
     "output_type": "stream",
     "text": [
      "24.0\n"
     ]
    }
   ],
   "source": [
    "X = 'INTENTION ASDKJOIELA'\n",
    "Y = 'EXECUTION OS SOMETHING'\n",
    "print(computeMED(X,Y))"
   ]
  },
  {
   "cell_type": "code",
   "execution_count": 9,
   "metadata": {},
   "outputs": [],
   "source": [
    "import editdistance"
   ]
  },
  {
   "cell_type": "code",
   "execution_count": 10,
   "metadata": {},
   "outputs": [],
   "source": [
    "L = list(nlp.vocab.strings)"
   ]
  },
  {
   "cell_type": "code",
   "execution_count": 11,
   "metadata": {},
   "outputs": [
    {
     "data": {
      "text/plain": [
       "83431"
      ]
     },
     "execution_count": 11,
     "metadata": {},
     "output_type": "execute_result"
    }
   ],
   "source": [
    "len(L)"
   ]
  },
  {
   "cell_type": "code",
   "execution_count": 12,
   "metadata": {},
   "outputs": [],
   "source": [
    "def correctSpellings(word,L):\n",
    "    MED = [editdistance.eval(word,L[i]) for i in range(len(L))]\n",
    "    return L[np.argmin(MED)]"
   ]
  },
  {
   "cell_type": "code",
   "execution_count": 14,
   "metadata": {},
   "outputs": [
    {
     "name": "stdout",
     "output_type": "stream",
     "text": [
      "Type a word here:  hightf\n",
      "You have typed :   hightf\n",
      "The correct word is :   Might\n"
     ]
    }
   ],
   "source": [
    "word = input('Type a word here:  ')\n",
    "print('You have typed :  ',word)\n",
    "print('The correct word is :  ',correctSpellings(word,L))"
   ]
  },
  {
   "cell_type": "code",
   "execution_count": null,
   "metadata": {},
   "outputs": [],
   "source": []
  }
 ],
 "metadata": {
  "kernelspec": {
   "display_name": "Python 3",
   "language": "python",
   "name": "python3"
  },
  "language_info": {
   "codemirror_mode": {
    "name": "ipython",
    "version": 3
   },
   "file_extension": ".py",
   "mimetype": "text/x-python",
   "name": "python",
   "nbconvert_exporter": "python",
   "pygments_lexer": "ipython3",
   "version": "3.8.5"
  }
 },
 "nbformat": 4,
 "nbformat_minor": 4
}
